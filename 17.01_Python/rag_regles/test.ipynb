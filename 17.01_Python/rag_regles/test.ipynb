version https://git-lfs.github.com/spec/v1
oid sha256:6caff37fea5db77248ba15d767531a6e6ccd75e27504b1ca800ca7248150a884
size 196956
