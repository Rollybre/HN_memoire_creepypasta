version https://git-lfs.github.com/spec/v1
oid sha256:932e8dea79b6b796054ad1943926cb1de9cf31822ecaaa78624d62be5f5fc639
size 527290
