version https://git-lfs.github.com/spec/v1
oid sha256:34a80f00c88b4384f6a8910c7d613587fd6dac0854c879227a34495813ab8d12
size 20791
