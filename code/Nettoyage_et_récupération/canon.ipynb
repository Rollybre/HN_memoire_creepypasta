version https://git-lfs.github.com/spec/v1
oid sha256:8552d5b106589a150377d8f6fe1b57445bc117bf11b8633aa9eab734ed8a71ba
size 3781888
